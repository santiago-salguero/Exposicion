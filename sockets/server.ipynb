{
  "nbformat": 4,
  "nbformat_minor": 0,
  "metadata": {
    "colab": {
      "name": "server.ipynb",
      "provenance": [],
      "authorship_tag": "ABX9TyPBe4SNij8ONmjR1jaT+koz",
      "include_colab_link": true
    },
    "kernelspec": {
      "name": "python3",
      "display_name": "Python 3"
    },
    "language_info": {
      "name": "python"
    }
  },
  "cells": [
    {
      "cell_type": "markdown",
      "metadata": {
        "id": "view-in-github",
        "colab_type": "text"
      },
      "source": [
        "<a href=\"https://colab.research.google.com/github/santiago-salguero/Exposicion/blob/main/sockets/server.ipynb\" target=\"_parent\"><img src=\"https://colab.research.google.com/assets/colab-badge.svg\" alt=\"Open In Colab\"/></a>"
      ]
    },
    {
      "cell_type": "code",
      "metadata": {
        "id": "_AXgfcf0qb8e"
      },
      "source": [
        "import socket \n",
        "import threading\n",
        "\n",
        "host = '127.0.0.1'\n",
        "port = 55555\n",
        "\n",
        "server = socket.socket(socket.AF_INET, socket.SOCK_STREAM)\n",
        "server.bind((host,port))\n",
        "server.listen()\n",
        "print(f\"Server Running on {host}:{server}\")\n",
        "\n",
        "clients = []\n",
        "usernames = []\n",
        "\n",
        "def broadcast(message, _client):\n",
        "    for client in clients:\n",
        "        if client != _client:\n",
        "            client.send(message)\n",
        "\n",
        "def handle_messages(client):\n",
        "    while True:\n",
        "        try:\n",
        "            message = client.recv(1024)\n",
        "            broadcast(message,client)\n",
        "        except:\n",
        "            index = clients.index(client)\n",
        "            username = usernames[index]\n",
        "            broadcast(f\"ChatBot: {username} desconectado.\".encode('utf-8'), client)\n",
        "            clients.remove(client)\n",
        "            usernames.remove(username)\n",
        "            client.close()\n",
        "\n",
        "            break\n",
        "\n",
        "def receive_connections():\n",
        "    while True:\n",
        "        client, adresss = server.accept()\n",
        "        client.send(\"@username\".encode(\"utf-8\"))\n",
        "        username = client.recv(1024).decode('utf-8')\n",
        "\n",
        "        clients.append(client)\n",
        "        usernames.append(username)\n",
        "\n",
        "        print(f\"{username} esta conectado con {str(address)}\")\n",
        "\n",
        "        message = f\"ChatBot: {username} se ha unido al chat!\".encode(\"utf-8\")\n",
        "        broadcast(message,client)\n",
        "        client.send(\"conectado con el servidor\".encode('utf-8'))\n",
        "\n",
        "        thread = threading.Thread(target=handle_messages, args=(client,))\n",
        "        thread.start()\n",
        "\n",
        "receive_connections()\n"
      ],
      "execution_count": null,
      "outputs": []
    }
  ]
}