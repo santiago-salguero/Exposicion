{
  "nbformat": 4,
  "nbformat_minor": 0,
  "metadata": {
    "colab": {
      "name": "Ejercicio_Os.ipynb",
      "provenance": [],
      "authorship_tag": "ABX9TyM+vAqN5Qf5SLgE9LE2dlca",
      "include_colab_link": true
    },
    "kernelspec": {
      "name": "python3",
      "display_name": "Python 3"
    },
    "language_info": {
      "name": "python"
    }
  },
  "cells": [
    {
      "cell_type": "markdown",
      "metadata": {
        "id": "view-in-github",
        "colab_type": "text"
      },
      "source": [
        "<a href=\"https://colab.research.google.com/github/santiago-salguero/Exposicion/blob/main/os/Ejercicio_Os.ipynb\" target=\"_parent\"><img src=\"https://colab.research.google.com/assets/colab-badge.svg\" alt=\"Open In Colab\"/></a>"
      ]
    },
    {
      "cell_type": "markdown",
      "metadata": {
        "id": "BVzcWU6tWj9A"
      },
      "source": [
        "**Santiago Salguero Enciso** </br>\n",
        "     **20201005034**\n",
        "     "
      ]
    },
    {
      "cell_type": "code",
      "metadata": {
        "colab": {
          "base_uri": "https://localhost:8080/",
          "height": 35
        },
        "id": "wiD4Y5fsOsYL",
        "outputId": "4c99022c-60b2-46d7-f3d3-5a3b86ac63c2"
      },
      "source": [
        "import os #Se importa la librería\n",
        "os.getcwd() #Se ve el donde se esta trabajando"
      ],
      "execution_count": 9,
      "outputs": [
        {
          "output_type": "execute_result",
          "data": {
            "application/vnd.google.colaboratory.intrinsic+json": {
              "type": "string"
            },
            "text/plain": [
              "'/content/Modulo1'"
            ]
          },
          "metadata": {},
          "execution_count": 9
        }
      ]
    },
    {
      "cell_type": "code",
      "metadata": {
        "colab": {
          "base_uri": "https://localhost:8080/"
        },
        "id": "oXBFV_T1RFey",
        "outputId": "6751998e-b7b9-4c28-a06c-59c13523783f"
      },
      "source": [
        "import os\n",
        "os.mkdir('Modulo1') #Se crea el directorio 1\n",
        "os.mkdir('Modulo2') #Se crea el directorio 2\n",
        "os.mkdir('Modulo3') #Se crea el directorio 3\n"
      ],
      "execution_count": 5,
      "outputs": [
        {
          "output_type": "execute_result",
          "data": {
            "text/plain": [
              "['.config',\n",
              " 'Modulo1',\n",
              " 'Modulo2',\n",
              " 'Modulo3',\n",
              " '.ipynb_checkpoints',\n",
              " 'sample_data']"
            ]
          },
          "metadata": {},
          "execution_count": 5
        }
      ]
    },
    {
      "cell_type": "code",
      "metadata": {
        "colab": {
          "base_uri": "https://localhost:8080/",
          "height": 214
        },
        "id": "8XAsv0f_TBvU",
        "outputId": "f63e4cb1-99eb-4630-f402-17a9b64c9efd"
      },
      "source": [
        "import os\n",
        "os.chdir('Modulo1') #Se cambia de directorio\n",
        "os.mkdir('Observaciones') #Se crea el subdirectorio\n",
        "os.mkfile('Comentario1') #Se crea un archivo"
      ],
      "execution_count": 12,
      "outputs": [
        {
          "output_type": "error",
          "ename": "FileNotFoundError",
          "evalue": "ignored",
          "traceback": [
            "\u001b[0;31m---------------------------------------------------------------------------\u001b[0m",
            "\u001b[0;31mFileNotFoundError\u001b[0m                         Traceback (most recent call last)",
            "\u001b[0;32m<ipython-input-12-2e216a1d8861>\u001b[0m in \u001b[0;36m<module>\u001b[0;34m()\u001b[0m\n\u001b[1;32m      1\u001b[0m \u001b[0;32mimport\u001b[0m \u001b[0mos\u001b[0m\u001b[0;34m\u001b[0m\u001b[0;34m\u001b[0m\u001b[0m\n\u001b[0;32m----> 2\u001b[0;31m \u001b[0mos\u001b[0m\u001b[0;34m.\u001b[0m\u001b[0mchdir\u001b[0m\u001b[0;34m(\u001b[0m\u001b[0;34m'Modulo1'\u001b[0m\u001b[0;34m)\u001b[0m \u001b[0;31m#Se cambia de directorio\u001b[0m\u001b[0;34m\u001b[0m\u001b[0;34m\u001b[0m\u001b[0m\n\u001b[0m\u001b[1;32m      3\u001b[0m \u001b[0mos\u001b[0m\u001b[0;34m.\u001b[0m\u001b[0mmkdir\u001b[0m\u001b[0;34m(\u001b[0m\u001b[0;34m'Observaciones'\u001b[0m\u001b[0;34m)\u001b[0m \u001b[0;31m#Se crea el subdirectorio\u001b[0m\u001b[0;34m\u001b[0m\u001b[0;34m\u001b[0m\u001b[0m\n\u001b[1;32m      4\u001b[0m \u001b[0mos\u001b[0m\u001b[0;34m.\u001b[0m\u001b[0mmkfile\u001b[0m\u001b[0;34m(\u001b[0m\u001b[0;34m'Comentario1'\u001b[0m\u001b[0;34m)\u001b[0m \u001b[0;31m#Se crea un archivo\u001b[0m\u001b[0;34m\u001b[0m\u001b[0;34m\u001b[0m\u001b[0m\n",
            "\u001b[0;31mFileNotFoundError\u001b[0m: [Errno 2] No such file or directory: 'Modulo1'"
          ]
        }
      ]
    },
    {
      "cell_type": "code",
      "metadata": {
        "colab": {
          "base_uri": "https://localhost:8080/",
          "height": 214
        },
        "id": "8f6qgxE6VAxn",
        "outputId": "a654b508-f1c8-4335-d6c9-8661b84b387b"
      },
      "source": [
        "import os\n",
        "os.chdir('Modulo2') #Se cambia de directorio\n",
        "os.mkdir('Observaciones2') #Se crea el subdirectorio\n",
        "os.mkfile('Comentario2') #Se crea un archivo"
      ],
      "execution_count": 8,
      "outputs": [
        {
          "output_type": "error",
          "ename": "FileNotFoundError",
          "evalue": "ignored",
          "traceback": [
            "\u001b[0;31m---------------------------------------------------------------------------\u001b[0m",
            "\u001b[0;31mFileNotFoundError\u001b[0m                         Traceback (most recent call last)",
            "\u001b[0;32m<ipython-input-8-540547dbc817>\u001b[0m in \u001b[0;36m<module>\u001b[0;34m()\u001b[0m\n\u001b[1;32m      1\u001b[0m \u001b[0;32mimport\u001b[0m \u001b[0mos\u001b[0m\u001b[0;34m\u001b[0m\u001b[0;34m\u001b[0m\u001b[0m\n\u001b[0;32m----> 2\u001b[0;31m \u001b[0mos\u001b[0m\u001b[0;34m.\u001b[0m\u001b[0mchdir\u001b[0m\u001b[0;34m(\u001b[0m\u001b[0;34m'Modulo2'\u001b[0m\u001b[0;34m)\u001b[0m \u001b[0;31m#Se cambia de directorio\u001b[0m\u001b[0;34m\u001b[0m\u001b[0;34m\u001b[0m\u001b[0m\n\u001b[0m\u001b[1;32m      3\u001b[0m \u001b[0mos\u001b[0m\u001b[0;34m.\u001b[0m\u001b[0mmkdir\u001b[0m\u001b[0;34m(\u001b[0m\u001b[0;34m'Observaciones2'\u001b[0m\u001b[0;34m)\u001b[0m \u001b[0;31m#Se crea el subdirectorio\u001b[0m\u001b[0;34m\u001b[0m\u001b[0;34m\u001b[0m\u001b[0m\n\u001b[1;32m      4\u001b[0m \u001b[0mos\u001b[0m\u001b[0;34m.\u001b[0m\u001b[0mmkfile\u001b[0m\u001b[0;34m(\u001b[0m\u001b[0;34m'Comentario2'\u001b[0m\u001b[0;34m)\u001b[0m \u001b[0;31m#Se crea un archivo\u001b[0m\u001b[0;34m\u001b[0m\u001b[0;34m\u001b[0m\u001b[0m\n",
            "\u001b[0;31mFileNotFoundError\u001b[0m: [Errno 2] No such file or directory: 'Modulo2'"
          ]
        }
      ]
    },
    {
      "cell_type": "code",
      "metadata": {
        "id": "hOB5WL71VA2I"
      },
      "source": [
        "import os\n",
        "os.chdir('Modulo3') #Se cambia de directorio\n",
        "os.mkdir('Observaciones3') #Se crea el subdirectorio\n",
        "os.mkfifo('Comentario3') #Se crea un archivo"
      ],
      "execution_count": null,
      "outputs": []
    },
    {
      "cell_type": "code",
      "metadata": {
        "colab": {
          "base_uri": "https://localhost:8080/"
        },
        "id": "NbWbU1RMSqd8",
        "outputId": "2f6b03b1-ab2a-4ad3-bf34-f057da6c8c3f"
      },
      "source": [
        "import os\n",
        "os.listdir() #Se visualizan los directorios"
      ],
      "execution_count": 13,
      "outputs": [
        {
          "output_type": "execute_result",
          "data": {
            "text/plain": [
              "['Observaciones', 'Comentario1']"
            ]
          },
          "metadata": {},
          "execution_count": 13
        }
      ]
    },
    {
      "cell_type": "code",
      "metadata": {
        "id": "SWR6UVJhWAi5"
      },
      "source": [
        "import os\n",
        "os.rename('Modulo1', 'Modulacion') #Se renombra el directorio1\n",
        "os.rename('Modulo2', 'Transicion') #Se renombra el directorio2\n",
        "os.rename('Modulo3', 'CopiadeSeguridad') #Se renombra el directorio3"
      ],
      "execution_count": null,
      "outputs": []
    },
    {
      "cell_type": "code",
      "metadata": {
        "id": "FmQgCXJKWAxO"
      },
      "source": [
        ""
      ],
      "execution_count": null,
      "outputs": []
    },
    {
      "cell_type": "code",
      "metadata": {
        "id": "0eRlZEsTWA8s"
      },
      "source": [
        ""
      ],
      "execution_count": null,
      "outputs": []
    }
  ]
}